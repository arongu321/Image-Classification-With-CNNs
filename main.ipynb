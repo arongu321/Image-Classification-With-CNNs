{
  "nbformat": 4,
  "nbformat_minor": 0,
  "metadata": {
    "colab": {
      "provenance": []
    },
    "kernelspec": {
      "name": "python3",
      "display_name": "Python 3"
    },
    "language_info": {
      "name": "python"
    }
  },
  "cells": [
    {
      "cell_type": "code",
      "source": [
        "!pip install scikeras"
      ],
      "metadata": {
        "id": "Dzg-61t28e56"
      },
      "execution_count": null,
      "outputs": []
    },
    {
      "cell_type": "code",
      "execution_count": 55,
      "metadata": {
        "id": "XKjn8mDhp77v"
      },
      "outputs": [],
      "source": [
        "# --- Python Module Imports ---\n",
        "import numpy as np\n",
        "from sklearn.model_selection import StratifiedKFold\n",
        "from sklearn.metrics import f1_score\n",
        "from sklearn.pipeline import Pipeline\n",
        "from tensorflow import keras\n",
        "from keras.utils import to_categorical\n",
        "from keras.models import Sequential\n",
        "from keras.layers import Dense, Conv2D, MaxPooling2D, Flatten\n",
        "from keras.optimizers import Adam\n",
        "from keras.datasets import mnist\n",
        "from scikeras.wrappers import KerasClassifier"
      ]
    },
    {
      "cell_type": "code",
      "source": [
        "# Load MNIST dataset\n",
        "(X_train, y_train), (X_test, y_test) = mnist.load_data()"
      ],
      "metadata": {
        "id": "FU7mwLgR3yhK"
      },
      "execution_count": 56,
      "outputs": []
    },
    {
      "cell_type": "code",
      "source": [
        "# One Hot Encoding the training and test data for the target variable\n",
        "y_train_encoded = to_categorical(y_train)\n",
        "y_test_encoded = to_categorical(y_test)"
      ],
      "metadata": {
        "id": "lbdqckTQBcQ6"
      },
      "execution_count": 49,
      "outputs": []
    },
    {
      "cell_type": "code",
      "source": [
        "'''\n",
        "Create Convolutional Neural Network(CNN) that will be trained from the MNIST\n",
        "digits dataset\n",
        "'''\n",
        "\n",
        "def createCNN(numFilters, learnRate):\n",
        "  cnnModel = Sequential()\n",
        "\n",
        "  # Convolutional layer with filters\n",
        "  cnnModel.add(Conv2D(filters=numFilters, kernel_size=(3,3), activation='relu',\n",
        "                      input_shape=(28, 28, 1)))\n",
        "\n",
        "  # Maxpooling layer\n",
        "  cnnModel.add(MaxPooling2D(pool_size=(2,2)))\n",
        "\n",
        "  # Flattening the output giving it to fully connected layer\n",
        "  cnnModel.add(Flatten())\n",
        "\n",
        "  # Hidden layer maps flattened neurons to output\n",
        "  cnnModel.add(Dense(10, activation='softmax'))\n",
        "  cnnModel.compile(optimizer=Adam(learning_rate=learnRate),\n",
        "                   loss='categorical_crossentropy', metrics=['accuracy'])\n",
        "\n",
        "  return cnnModel"
      ],
      "metadata": {
        "id": "gXEQbuZV77tQ"
      },
      "execution_count": 57,
      "outputs": []
    },
    {
      "cell_type": "code",
      "source": [
        "# Hyperparameters of CNN(number of filters, learning rate)\n",
        "paramGrid = {\n",
        "    'filters': [16,32],\n",
        "    'learning_rate': [0.001, 0.01]\n",
        "}\n",
        "\n",
        "# 5-fold Stratified Cross Validation\n",
        "stratKFold = StratifiedKFold(n_splits=5, shuffle=True, random_state=42)\n",
        "\n",
        "# CNN Hyperparameter Variables\n",
        "mean_f1Scores = {}\n",
        "test = 0\n",
        "highestF1Score = 0\n",
        "best_params = ()\n",
        "\n",
        "# Test CNN model for each unique set of hyperparameters\n",
        "for filters in paramGrid['filters']:\n",
        "  for learnRate in paramGrid['learning_rate']:\n",
        "    # Retrieve F1 scores for each fold of the current CNN\n",
        "    f1Scores = []\n",
        "\n",
        "    # Store parameters of CNN in case the CNN model achieves the highest F1 score\n",
        "    parameters = (filters, learnRate)\n",
        "\n",
        "    for trainIdxes, validateIdxes in stratKFold.split(X_train, y_train):\n",
        "      X_train_fold = X_train[trainIdxes]\n",
        "      y_train_fold = y_train_encoded[trainIdxes]\n",
        "      X_validate_fold = X_train[validateIdxes]\n",
        "      y_validate_fold = y_train_encoded[validateIdxes]\n",
        "\n",
        "      # Create pipeline for the CNN model with Keras Classifier\n",
        "      cnnPipeline = Pipeline([\n",
        "          ('classifier', KerasClassifier(createCNN, numFilters=filters, learnRate=learnRate))\n",
        "      ])\n",
        "      # Fit the training data of the fold into the CNN model\n",
        "      cnnPipeline.fit(X_train_fold, y_train_fold)\n",
        "\n",
        "      # Give predictions on what the target values should be for the validation features\n",
        "      y_predict = cnnPipeline.predict(X_validate_fold)\n",
        "\n",
        "      # Get the corresponding F1 score for the CNN model with the predicted and validated target data\n",
        "      f1Score = f1_score(np.argmax(y_validate_fold, axis=1), np.argmax(y_predict, axis=1), average='weighted')\n",
        "      f1Scores.append(f1Score)\n",
        "\n",
        "    # Get Mean F1 Score of the hyperparameter set\n",
        "    meanF1Score = np.mean(f1Scores)\n",
        "\n",
        "    # Update best parameters for CNN model and its corresponding mean F1 score\n",
        "    if meanF1Score > highestF1Score:\n",
        "      highestF1Score = meanF1Score\n",
        "      best_params = parameters"
      ],
      "metadata": {
        "id": "PtbT9vZ6CV2J"
      },
      "execution_count": null,
      "outputs": []
    },
    {
      "cell_type": "code",
      "source": [
        "# Display CNN model with best parameters and its corresponding F1 Score\n",
        "print(\"The best parameters are \" + str(best_params[0]) +\n",
        "      \" filters at a learning rate of \" + str(best_params[1]))\n",
        "print(\"The highest Mean F1 score is \" + str(highestF1Score))"
      ],
      "metadata": {
        "id": "aJqL2Hx4QB7V"
      },
      "execution_count": null,
      "outputs": []
    },
    {
      "cell_type": "code",
      "source": [
        "### Train Network with All Training Data using the Best Parameters and Validate with the Test Data ###\n",
        "\n",
        "# Train Network with All the Training Data\n",
        "bestCNNModel = createCNN(best_params[0], best_params[1])\n",
        "bestCNNModel.fit(X_train, y_train_encoded)\n",
        "y_predict_test = bestCNNModel.predict(X_test)\n",
        "\n",
        "# Get F1 score of CNN model with the test data\n",
        "f1ScoreTest = f1_score(np.argmax(y_test_encoded, axis=1), np.argmax(y_predict_test, axis=1), average='weighted')\n",
        "print(\"The Mean F1 score of the Best CNN Model on this testing dataset is \"\n",
        "  + str(f1ScoreTest))"
      ],
      "metadata": {
        "id": "3fltRVnqQNJi"
      },
      "execution_count": null,
      "outputs": []
    }
  ]
}